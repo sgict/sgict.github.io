{
 "cells": [
  {
   "cell_type": "code",
   "execution_count": 1,
   "metadata": {},
   "outputs": [],
   "source": [
    "# 라이브러리 불러오기\n",
    "import requests\n",
    "from bs4 import BeautifulSoup\n",
    "\n",
    "# 검색 키워드\n",
    "search_word = '신한은행'\n",
    "\n",
    "# 해당 url의 html문서를 soup 객체로 저장\n",
    "url = f'https://m.search.naver.com/search.naver?where=m_news&sm=mtb_jum&query={search_word}'\n",
    "req = requests.get(url)\n",
    "html = req.text\n",
    "soup = BeautifulSoup(html, 'html.parser')"
   ]
  },
  {
   "cell_type": "code",
   "execution_count": 2,
   "metadata": {},
   "outputs": [
    {
     "name": "stdout",
     "output_type": "stream",
     "text": [
      " 신한은행, 마통 한도 1억원→5000만원… 심사 기준도 강화 \n",
      " 직장인, 은행에서 5천만원 넘는 마이너스통장 뚫기 어려워진다 \n",
      " 상승세의 신한은행, 3위 굳히기 나서 \n",
      " 한채진 · 김아름 나란히 15득점…신한은행, 단독 3위 수성 \n",
      " 보이스피싱 예방한 신한은행원 '눈길' \n",
      " '3점슛 10개 폭발' 신한은행, 삼성생명 제압하고 2연승 \n",
      " 현대차그룹·산업·신한은행, 모빌리티 스타트업 위한 펀드 조성…745억원 규모 \n",
      " 신한은행, AI 활용해 정기 인사…여성 과장 승진자 10% 늘었다 \n",
      " 베테랑 한채진-김단비 맹활약 신한은행, 삼성생명 격파 '3위 굳히기' \n",
      " [사진]신한은행, '이겼다' \n",
      " 전필환 신한은행 디지털그룹장 \"AI 금융플랫폼 구축 추진\" \n",
      " [사진]신한은행, 삼성생명 잡고 3위 굳히기 \n",
      " [더벨][퇴직연금시장 분석]신한은행, IRP 적립금 가장 많이 늘렸다 \n",
      " 신한은행 쏠, 계좌 관리서 여행예약까지···라이프 플랫폼으로 '쏠'쏠한 진화 \n",
      " \"수성이냐 탈환이냐\"…신한·KB '리딩그룹'은 \n"
     ]
    }
   ],
   "source": [
    "search_result = soup.select_one('#news_result_list')\n",
    "news_links = search_result.select('.bx > .news_wrap > a')\n",
    "\n",
    "for i in news_links:\n",
    "    print(i.get_text())"
   ]
  },
  {
   "cell_type": "code",
   "execution_count": 3,
   "metadata": {},
   "outputs": [
    {
     "name": "stdout",
     "output_type": "stream",
     "text": [
      "https://m.news.naver.com/read.nhn?mode=LSD&mid=sec&sid1=101&oid=366&aid=0000662959\n",
      "https://m.news.naver.com/read.nhn?mode=LSD&mid=sec&sid1=101&oid=001&aid=0012176417\n",
      "https://n.news.naver.com/sports/basketball/article/382/0000887658\n",
      "https://n.news.naver.com/sports/basketball/article/055/0000871646\n",
      "http://www.cctoday.co.kr/news/articleView.html?idxno=2122093\n",
      "https://n.news.naver.com/sports/basketball/article/421/0005138485\n",
      "http://m.fntimes.com/html/view.php?ud=202102010928231327de3572ddd_18\n",
      "https://m.news.naver.com/read.nhn?mode=LSD&mid=sec&sid1=101&oid=050&aid=0000056505\n",
      "https://n.news.naver.com/sports/basketball/article/076/0003687535\n",
      "https://n.news.naver.com/sports/basketball/article/109/0004346783\n",
      "https://m.news.naver.com/read.nhn?mode=LSD&mid=sec&sid1=101&oid=011&aid=0003865728\n",
      "https://n.news.naver.com/sports/basketball/article/109/0004346782\n",
      "http://www.thebell.co.kr/front/free/contents/news/article_view.asp?key=202101281310506200105482\n",
      "https://m.news.naver.com/read.nhn?mode=LSD&mid=sec&sid1=101&oid=011&aid=0003865727\n",
      "https://m.news.naver.com/read.nhn?mode=LSD&mid=sec&sid1=101&oid=277&aid=0004839047\n"
     ]
    }
   ],
   "source": [
    "for i in news_links:\n",
    "    print(i['href'])"
   ]
  },
  {
   "cell_type": "code",
   "execution_count": 4,
   "metadata": {},
   "outputs": [
    {
     "name": "stdout",
     "output_type": "stream",
     "text": [
      "Looking in indexes: http://ftp.daumkakao.com/pypi/simple\n",
      "Collecting python-telegram-bot\n",
      "  Downloading http://mirror.kakao.com/pypi/packages/cc/b3/f363e9c5c2e4690a1fd352c01263eb2938952888c09d73c824b49d288dcc/python_telegram_bot-13.1-py3-none-any.whl (422 kB)\n",
      "\u001b[K     |████████████████████████████████| 422 kB 3.6 MB/s eta 0:00:01\n",
      "\u001b[?25hRequirement already satisfied: certifi in /Users/zihado/anaconda3/lib/python3.8/site-packages (from python-telegram-bot) (2020.6.20)\n",
      "Collecting APScheduler==3.6.3\n",
      "  Downloading http://mirror.kakao.com/pypi/packages/f3/34/9ef20ed473c4fd2c3df54ef77a27ae3fc7500b16b192add4720cab8b2c09/APScheduler-3.6.3-py2.py3-none-any.whl (58 kB)\n",
      "\u001b[K     |████████████████████████████████| 58 kB 53.5 MB/s eta 0:00:01\n",
      "\u001b[?25hRequirement already satisfied: pytz>=2018.6 in /Users/zihado/anaconda3/lib/python3.8/site-packages (from python-telegram-bot) (2020.1)\n",
      "Requirement already satisfied: cryptography in /Users/zihado/anaconda3/lib/python3.8/site-packages (from python-telegram-bot) (3.1.1)\n",
      "Requirement already satisfied: decorator>=4.4.0 in /Users/zihado/anaconda3/lib/python3.8/site-packages (from python-telegram-bot) (4.4.2)\n",
      "Requirement already satisfied: tornado>=5.1 in /Users/zihado/anaconda3/lib/python3.8/site-packages (from python-telegram-bot) (6.0.4)\n",
      "Requirement already satisfied: six>=1.4.0 in /Users/zihado/anaconda3/lib/python3.8/site-packages (from APScheduler==3.6.3->python-telegram-bot) (1.15.0)\n",
      "Collecting tzlocal>=1.2\n",
      "  Downloading http://mirror.kakao.com/pypi/packages/5d/94/d47b0fd5988e6b7059de05720a646a2930920fff247a826f61674d436ba4/tzlocal-2.1-py2.py3-none-any.whl (16 kB)\n",
      "Requirement already satisfied: setuptools>=0.7 in /Users/zihado/anaconda3/lib/python3.8/site-packages (from APScheduler==3.6.3->python-telegram-bot) (50.3.1.post20201107)\n",
      "Requirement already satisfied: cffi!=1.11.3,>=1.8 in /Users/zihado/anaconda3/lib/python3.8/site-packages (from cryptography->python-telegram-bot) (1.14.3)\n",
      "Requirement already satisfied: pycparser in /Users/zihado/anaconda3/lib/python3.8/site-packages (from cffi!=1.11.3,>=1.8->cryptography->python-telegram-bot) (2.20)\n",
      "Installing collected packages: tzlocal, APScheduler, python-telegram-bot\n",
      "Successfully installed APScheduler-3.6.3 python-telegram-bot-13.1 tzlocal-2.1\n"
     ]
    }
   ],
   "source": [
    "!pip install python-telegram-bot"
   ]
  },
  {
   "cell_type": "code",
   "execution_count": 5,
   "metadata": {},
   "outputs": [],
   "source": [
    "import telegram\n",
    "token = '1659610769:AAHVplqiz3hKM8F9RuUTz1gelpJpGzRFaMc'\n",
    "bot = telegram.Bot(token=token)"
   ]
  },
  {
   "cell_type": "code",
   "execution_count": 6,
   "metadata": {},
   "outputs": [
    {
     "name": "stdout",
     "output_type": "stream",
     "text": [
      "{'message_id': 1, 'date': 1612173098, 'chat': {'id': 66077028, 'type': 'private', 'username': 'zihado', 'first_name': 'seongilp'}, 'text': '/start', 'entities': [{'type': 'bot_command', 'offset': 0, 'length': 6}], 'caption_entities': [], 'photo': [], 'new_chat_members': [], 'new_chat_photo': [], 'delete_chat_photo': False, 'group_chat_created': False, 'supergroup_chat_created': False, 'channel_chat_created': False, 'from': {'id': 66077028, 'first_name': 'seongilp', 'is_bot': False, 'username': 'zihado'}}\n",
      "{'message_id': 2, 'date': 1612173110, 'chat': {'id': 66077028, 'type': 'private', 'username': 'zihado', 'first_name': 'seongilp'}, 'text': 'Hello botol', 'entities': [], 'caption_entities': [], 'photo': [], 'new_chat_members': [], 'new_chat_photo': [], 'delete_chat_photo': False, 'group_chat_created': False, 'supergroup_chat_created': False, 'channel_chat_created': False, 'from': {'id': 66077028, 'first_name': 'seongilp', 'is_bot': False, 'username': 'zihado', 'language_code': 'ko'}}\n"
     ]
    }
   ],
   "source": [
    "for i in bot.getUpdates():\n",
    "    print(i.message)"
   ]
  },
  {
   "cell_type": "code",
   "execution_count": 7,
   "metadata": {},
   "outputs": [
    {
     "data": {
      "text/plain": [
       "<telegram.message.Message at 0x7fc9f1392b80>"
      ]
     },
     "execution_count": 7,
     "metadata": {},
     "output_type": "execute_result"
    }
   ],
   "source": [
    "bot.sendMessage(chat_id='66077028', text='봇 테스트 123')"
   ]
  },
  {
   "cell_type": "code",
   "execution_count": 8,
   "metadata": {},
   "outputs": [
    {
     "name": "stdout",
     "output_type": "stream",
     "text": [
      "===보낼 링크===\n",
      " ['https://m.news.naver.com/read.nhn?mode=LSD&mid=sec&sid1=101&oid=366&aid=0000662959', 'https://m.news.naver.com/read.nhn?mode=LSD&mid=sec&sid1=101&oid=001&aid=0012176417', 'https://m.news.naver.com/read.nhn?mode=LSD&mid=sec&sid1=101&oid=015&aid=0004492936', 'https://n.news.naver.com/sports/basketball/article/382/0000887658', 'https://m.news.naver.com/read.nhn?mode=LSD&mid=sec&sid1=101&oid=009&aid=0004742803'] \n",
      "\n",
      "===보낼 링크===\n",
      " [] \n",
      "\n",
      "===보낼 링크===\n",
      " [] \n",
      "\n"
     ]
    }
   ],
   "source": [
    "import requests\n",
    "from bs4 import BeautifulSoup\n",
    "import telegram\n",
    "\n",
    "# 서치 키워드\n",
    "search_word = '신한은행'\n",
    "\n",
    "# 기존에 보냈던 링크를 담아둘 리스트\n",
    "old_links = []\n",
    "\n",
    "# 스크래핑 함수 \n",
    "def extract_links(old_links=[]):\n",
    "    url = f'https://m.search.naver.com/search.naver?where=m_news&sm=mtb_jum&query={search_word}'\n",
    "    req = requests.get(url)\n",
    "    html = req.text\n",
    "    soup = BeautifulSoup(html, 'html.parser')\n",
    "\n",
    "    search_result = soup.select_one('#news_result_list')\n",
    "    news_list = search_result.select('.bx > .news_wrap > a')\n",
    "\n",
    "    links = []\n",
    "    for news in news_list[:5]:\n",
    "        link = news['href']\n",
    "        links.append(link)\n",
    "    \n",
    "    new_links=[]\n",
    "    for link in links:\n",
    "        if link not in old_links:\n",
    "            new_links.append(link)\n",
    "    \n",
    "    return new_links\n",
    "\n",
    "# 이전 링크를 매개변수로 받아서, 비교 후 새로운 링크만 출력\n",
    "# 차후 이 부분을 메시지 전송 코드로 변경하고 매시간 동작하도록 설정\n",
    "# 새로운 링크가 없다면 빈 리스트 반환\n",
    "for i in range(3):\n",
    "    new_links = extract_links(old_links)\n",
    "    print('===보낼 링크===\\n', new_links,'\\n')\n",
    "    old_links += new_links.copy()\n",
    "    old_links = list(set(old_links))"
   ]
  },
  {
   "cell_type": "code",
   "execution_count": 9,
   "metadata": {},
   "outputs": [
    {
     "ename": "SyntaxError",
     "evalue": "invalid syntax (<ipython-input-9-47ec9e2662e7>, line 6)",
     "output_type": "error",
     "traceback": [
      "\u001b[0;36m  File \u001b[0;32m\"<ipython-input-9-47ec9e2662e7>\"\u001b[0;36m, line \u001b[0;32m6\u001b[0m\n\u001b[0;31m    sched.add_job(작동시킬 함수명, 'interval', hours=1)\u001b[0m\n\u001b[0m                       ^\u001b[0m\n\u001b[0;31mSyntaxError\u001b[0m\u001b[0;31m:\u001b[0m invalid syntax\n"
     ]
    }
   ],
   "source": [
    "# 라이브러리 불러오기\n",
    "from apscheduler.schedulers.blocking import BlockingScheduler\n",
    "# 스케쥴러 생성\n",
    "sched = BlockingScheduler()\n",
    "# 스케줄 설정\n",
    "sched.add_job(작동시킬 함수명, 'interval', hours=1)\n",
    "# 시작\n",
    "sched.start()"
   ]
  },
  {
   "cell_type": "code",
   "execution_count": null,
   "metadata": {},
   "outputs": [],
   "source": [
    "# 라이브러리 불러오기\n",
    "import requests\n",
    "from bs4 import BeautifulSoup\n",
    "import telegram\n",
    "from apscheduler.schedulers.blocking import BlockingScheduler\n",
    "\n",
    "# 검색 키워드\n",
    "search_word = '신한은행'\n",
    "\n",
    "# 텔레그램 봇 생성\n",
    "token = '1659610769:AAHVplqiz3hKM8F9RuUTz1gelpJpGzRFaMc'\n",
    "bot = telegram.Bot(token=token)\n",
    "# 스케쥴러 생성\n",
    "sched = BlockingScheduler()\n",
    "# 기존에 보냈던 링크를 담아둘 리스트\n",
    "old_links = []\n",
    "\n",
    "# 링크 추출 함수\n",
    "def extract_links(old_links=[]):\n",
    "    url = f'https://m.search.naver.com/search.naver?where=m_news&sm=mtb_jum&query={search_word}'\n",
    "    req = requests.get(url)\n",
    "    html = req.text\n",
    "    soup = BeautifulSoup(html, 'html.parser')\n",
    "\n",
    "    search_result = soup.select_one('#news_result_list')\n",
    "    news_list = search_result.select('.bx > .news_wrap > a')\n",
    "\n",
    "    links = []\n",
    "    for news in news_list[:5]:\n",
    "        link = news['href']\n",
    "        links.append(link)\n",
    "    \n",
    "    new_links=[]\n",
    "    for link in links:\n",
    "        if link not in old_links:\n",
    "            new_links.append(link)\n",
    "    \n",
    "    return new_links\n",
    "    \n",
    "# 텔레그램 메시지 전송 함수\n",
    "def send_links():\n",
    "    global old_links\n",
    "    new_links = extract_links(old_links)\n",
    "    if new_links:\n",
    "        for link in new_links:\n",
    "            bot.sendMessage(chat_id='66077028', text=link)\n",
    "    else:\n",
    "        bot.sendMessage(chat_id='66077028', text='새로운 뉴스 없음')\n",
    "    old_links += new_links.copy()\n",
    "    old_links = list(set(old_links))\n",
    "\n",
    "# 최초 시작\n",
    "send_links()\n",
    "# 스케쥴러 세팅 및 작동\n",
    "sched.add_job(send_links, 'interval', hours=1)\n",
    "sched.start()"
   ]
  },
  {
   "cell_type": "code",
   "execution_count": null,
   "metadata": {},
   "outputs": [],
   "source": []
  }
 ],
 "metadata": {
  "kernelspec": {
   "display_name": "Python 3",
   "language": "python",
   "name": "python3"
  },
  "language_info": {
   "codemirror_mode": {
    "name": "ipython",
    "version": 3
   },
   "file_extension": ".py",
   "mimetype": "text/x-python",
   "name": "python",
   "nbconvert_exporter": "python",
   "pygments_lexer": "ipython3",
   "version": "3.8.5"
  }
 },
 "nbformat": 4,
 "nbformat_minor": 4
}
